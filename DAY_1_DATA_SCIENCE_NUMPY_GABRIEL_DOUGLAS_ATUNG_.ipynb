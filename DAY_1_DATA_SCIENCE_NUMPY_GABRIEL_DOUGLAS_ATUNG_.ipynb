{
 "cells": [
  {
   "cell_type": "markdown",
   "id": "d64330cc-448b-403f-bf36-853acf8ac207",
   "metadata": {},
   "source": [
    "# PRACTICAL IMPLEMENTATION OF CREATING ARRAYS OF DIFFERENT DIMENSIONS ON NUMPY\n",
    "## ZERO D-ARRAY"
   ]
  },
  {
   "cell_type": "code",
   "execution_count": 1,
   "id": "94c50a62-fcc7-4bcc-814a-7bdf7590e6e9",
   "metadata": {},
   "outputs": [],
   "source": [
    "import numpy as np"
   ]
  },
  {
   "cell_type": "code",
   "execution_count": 3,
   "id": "9d20badc-f3af-4123-991a-56733cea5c7d",
   "metadata": {},
   "outputs": [],
   "source": [
    "a = np.array(55)"
   ]
  },
  {
   "cell_type": "code",
   "execution_count": 4,
   "id": "2faf9612-ed9d-4246-ab34-19413032133f",
   "metadata": {},
   "outputs": [
    {
     "data": {
      "text/plain": [
       "array(55)"
      ]
     },
     "execution_count": 4,
     "metadata": {},
     "output_type": "execute_result"
    }
   ],
   "source": [
    "a"
   ]
  },
  {
   "cell_type": "code",
   "execution_count": 5,
   "id": "b6a39e70-3eeb-4ebe-9df4-621c72186030",
   "metadata": {},
   "outputs": [
    {
     "data": {
      "text/plain": [
       "numpy.ndarray"
      ]
     },
     "execution_count": 5,
     "metadata": {},
     "output_type": "execute_result"
    }
   ],
   "source": [
    "type(a)"
   ]
  },
  {
   "cell_type": "code",
   "execution_count": 6,
   "id": "7baffc54-edf9-425e-b72c-96b2f5eafba4",
   "metadata": {},
   "outputs": [
    {
     "data": {
      "text/plain": [
       "0"
      ]
     },
     "execution_count": 6,
     "metadata": {},
     "output_type": "execute_result"
    }
   ],
   "source": [
    "a.ndim"
   ]
  },
  {
   "cell_type": "markdown",
   "id": "3da3a1ca-e2d0-4f01-9ee4-723d3ac30fc5",
   "metadata": {},
   "source": [
    "## 1-D ARRAY\n",
    "Definition: As stated in the video section that, a 1-D array is the collection of different zero dimension arrays and or the scalar values that we call in number"
   ]
  },
  {
   "cell_type": "code",
   "execution_count": 7,
   "id": "ea260c93-9962-43da-a655-20620ca5e0cd",
   "metadata": {},
   "outputs": [],
   "source": [
    "# To create a 1-D array we create a python list\n",
    "b = np.array([1,2,3,4])"
   ]
  },
  {
   "cell_type": "code",
   "execution_count": 8,
   "id": "fdb3bb4a-56c9-4461-835a-90abfff87dc8",
   "metadata": {},
   "outputs": [
    {
     "data": {
      "text/plain": [
       "array([1, 2, 3, 4])"
      ]
     },
     "execution_count": 8,
     "metadata": {},
     "output_type": "execute_result"
    }
   ],
   "source": [
    "b"
   ]
  },
  {
   "cell_type": "code",
   "execution_count": 9,
   "id": "5194c380-8cdc-4c10-b08d-b2b6efd78465",
   "metadata": {},
   "outputs": [
    {
     "data": {
      "text/plain": [
       "1"
      ]
     },
     "execution_count": 9,
     "metadata": {},
     "output_type": "execute_result"
    }
   ],
   "source": [
    "b.ndim"
   ]
  },
  {
   "cell_type": "markdown",
   "id": "3ec234cf-b84f-40be-8022-058c4c72a115",
   "metadata": {},
   "source": [
    "## 2-D ARRAY"
   ]
  },
  {
   "cell_type": "code",
   "execution_count": 10,
   "id": "9327255a-6511-40c0-bb55-20b04e825369",
   "metadata": {},
   "outputs": [],
   "source": [
    "c = np.array([[1,2,3],[7,8,9]])"
   ]
  },
  {
   "cell_type": "code",
   "execution_count": 11,
   "id": "f20c4523-235e-4ca3-aa09-633a07689fef",
   "metadata": {},
   "outputs": [
    {
     "data": {
      "text/plain": [
       "array([[1, 2, 3],\n",
       "       [7, 8, 9]])"
      ]
     },
     "execution_count": 11,
     "metadata": {},
     "output_type": "execute_result"
    }
   ],
   "source": [
    "c"
   ]
  },
  {
   "cell_type": "code",
   "execution_count": 12,
   "id": "71730042-e1b5-4013-b1a4-a3af2e442e71",
   "metadata": {
    "scrolled": true
   },
   "outputs": [
    {
     "data": {
      "text/plain": [
       "2"
      ]
     },
     "execution_count": 12,
     "metadata": {},
     "output_type": "execute_result"
    }
   ],
   "source": [
    "c.ndim"
   ]
  },
  {
   "cell_type": "markdown",
   "id": "308abd5a-1e8f-47c9-b3f6-e524e1d14f16",
   "metadata": {},
   "source": [
    "## 3-D ARRAY"
   ]
  },
  {
   "cell_type": "code",
   "execution_count": 13,
   "id": "b149ff10-c2a8-45d8-a404-f2e9323d6ea7",
   "metadata": {},
   "outputs": [],
   "source": [
    "d = np.array([[[1,2,3],[4,5,6]],[[1,2,3],[4,5,6]]])"
   ]
  },
  {
   "cell_type": "code",
   "execution_count": 14,
   "id": "30afd065-1099-4113-8e17-584f3309c0e2",
   "metadata": {},
   "outputs": [
    {
     "data": {
      "text/plain": [
       "array([[[1, 2, 3],\n",
       "        [4, 5, 6]],\n",
       "\n",
       "       [[1, 2, 3],\n",
       "        [4, 5, 6]]])"
      ]
     },
     "execution_count": 14,
     "metadata": {},
     "output_type": "execute_result"
    }
   ],
   "source": [
    "d"
   ]
  },
  {
   "cell_type": "code",
   "execution_count": 15,
   "id": "04f0947d-b634-4256-9cab-7cd2e2c83146",
   "metadata": {},
   "outputs": [
    {
     "data": {
      "text/plain": [
       "3"
      ]
     },
     "execution_count": 15,
     "metadata": {},
     "output_type": "execute_result"
    }
   ],
   "source": [
    "d.ndim"
   ]
  },
  {
   "cell_type": "markdown",
   "id": "66fc740b-5c8e-46d1-ab8d-15fcd49adf44",
   "metadata": {},
   "source": [
    "# SHAPE AND RESHAPE OF A NUMPY ARRAY\n",
    "The shape of an array is the number of element in each dimension\n",
    "### What is reshaping of an array?\n",
    "- Reshaping means changing the shape of an array.\n",
    "- The dimension of an array is the number of elements in each dimension\n",
    "- By reshaping, we can add or remove dimensions or change number elements in each dimension."
   ]
  },
  {
   "cell_type": "code",
   "execution_count": 20,
   "id": "94a0b1b2-f94d-43c1-b3f6-aa23cf21cad1",
   "metadata": {},
   "outputs": [],
   "source": [
    "#reshaping this numbers of array example\n",
    "arr = np.array([[1,2,3,4],[5,6,7,8]])"
   ]
  },
  {
   "cell_type": "code",
   "execution_count": 21,
   "id": "1c4db3ce-cc9b-4467-bf74-79f3da1ff3af",
   "metadata": {},
   "outputs": [
    {
     "data": {
      "text/plain": [
       "(2, 4)"
      ]
     },
     "execution_count": 21,
     "metadata": {},
     "output_type": "execute_result"
    }
   ],
   "source": [
    "arr.shape"
   ]
  },
  {
   "cell_type": "markdown",
   "id": "0e120436-de54-4437-bca9-b860db64cac5",
   "metadata": {},
   "source": [
    "### Reshaping 1-D  to 2-D Array"
   ]
  },
  {
   "cell_type": "code",
   "execution_count": 22,
   "id": "88666cc1-76ed-4605-b8d3-44550c251769",
   "metadata": {},
   "outputs": [],
   "source": [
    "# Example converting the following 1-D array with 12 elements into a 2-D array. \n",
    "# The outermost dimension will have 4 arrays, each with 3 elements"
   ]
  },
  {
   "cell_type": "code",
   "execution_count": 24,
   "id": "626028cb-02df-4715-a681-8a9229cbd919",
   "metadata": {},
   "outputs": [
    {
     "name": "stdout",
     "output_type": "stream",
     "text": [
      "[[ 1  2  3]\n",
      " [ 4  5  6]\n",
      " [ 7  8  9]\n",
      " [10 11 12]]\n"
     ]
    }
   ],
   "source": [
    "arr = np.array([1,2,3,4,5,6,7,8,9,10,11,12])\n",
    "#We will find the two numbers that when we multiply them will give 12\n",
    "newarr = arr.reshape(4, 3)\n",
    "print(newarr)"
   ]
  },
  {
   "cell_type": "markdown",
   "id": "9a5a36a9-629a-4c5b-8f8f-3ac4119ddbd3",
   "metadata": {},
   "source": [
    "### Question: \n",
    "Can we reshape into any shape?\n",
    "\n",
    "### Answer:\n",
    "Yes, as long as the elements requiredd for reshaping are equal in both shapes.\n",
    "We can reshape an 8 elements 1D array into 4 elements in 2 rows 2D array but cannot reshape it into a 3 elements 3 rows 2D array as that would require 3x3=9 elements.."
   ]
  },
  {
   "cell_type": "markdown",
   "id": "3027436c-411d-48e6-bffc-0443f60c345a",
   "metadata": {},
   "source": [
    "### Flattening\n",
    "Flattening means converting a multidimensional array into a 1D array.\n",
    "We can use reshape (-1) to do this"
   ]
  },
  {
   "cell_type": "code",
   "execution_count": 25,
   "id": "e530c32f-4917-4675-9c53-a3911c9f1c2a",
   "metadata": {},
   "outputs": [
    {
     "name": "stdout",
     "output_type": "stream",
     "text": [
      "[1 2 3 4 5 6]\n"
     ]
    }
   ],
   "source": [
    "arr = np.array([[1,2,3],[4,5,6]])\n",
    "newarr = arr.reshape(-1)\n",
    "print(newarr)"
   ]
  },
  {
   "cell_type": "markdown",
   "id": "1d80f949-d38f-4205-8cc7-f62170d856a6",
   "metadata": {},
   "source": [
    "## Practicals for Shape and Reshaping of an array"
   ]
  },
  {
   "cell_type": "code",
   "execution_count": 27,
   "id": "dde7b83d-5f65-4dae-b3f0-72eb709e18a7",
   "metadata": {},
   "outputs": [
    {
     "data": {
      "text/plain": [
       "(5,)"
      ]
     },
     "execution_count": 27,
     "metadata": {},
     "output_type": "execute_result"
    }
   ],
   "source": [
    "a = np.array([1,2,3,4,5])\n",
    "\n",
    "# To check the shape of this array\n",
    "a.shape"
   ]
  },
  {
   "cell_type": "code",
   "execution_count": 29,
   "id": "b242017b-1207-431c-a5a4-b707155e1fe1",
   "metadata": {},
   "outputs": [],
   "source": [
    "# To show the same shape of 2-D array\n",
    "b = np.array([[1,2,3,4],[5,6,7,8]]) "
   ]
  },
  {
   "cell_type": "code",
   "execution_count": 30,
   "id": "a2baf792-140c-47a1-a615-80746155e74a",
   "metadata": {},
   "outputs": [
    {
     "data": {
      "text/plain": [
       "(2, 4)"
      ]
     },
     "execution_count": 30,
     "metadata": {},
     "output_type": "execute_result"
    }
   ],
   "source": [
    "b.shape"
   ]
  },
  {
   "cell_type": "code",
   "execution_count": 31,
   "id": "9405d968-89f5-49d7-9510-d933d426f16a",
   "metadata": {},
   "outputs": [],
   "source": [
    "# Reshaping the array\n",
    "c = np.array([1,2,3,4,5,6,7,8,9,10,11,12])"
   ]
  },
  {
   "cell_type": "code",
   "execution_count": 33,
   "id": "ca89fc84-e34e-4574-9306-2b6c8f0b6244",
   "metadata": {},
   "outputs": [
    {
     "data": {
      "text/plain": [
       "array([[ 1,  2,  3],\n",
       "       [ 4,  5,  6],\n",
       "       [ 7,  8,  9],\n",
       "       [10, 11, 12]])"
      ]
     },
     "execution_count": 33,
     "metadata": {},
     "output_type": "execute_result"
    }
   ],
   "source": [
    "#To rehape c into two dimensions\n",
    "new_arr = c.reshape(4,3)\n",
    "new_arr"
   ]
  },
  {
   "cell_type": "code",
   "execution_count": 34,
   "id": "c6456cd5-da6f-4429-a6f6-05c9faa78bf6",
   "metadata": {},
   "outputs": [
    {
     "data": {
      "text/plain": [
       "(4, 3)"
      ]
     },
     "execution_count": 34,
     "metadata": {},
     "output_type": "execute_result"
    }
   ],
   "source": [
    "new_arr.shape"
   ]
  },
  {
   "cell_type": "code",
   "execution_count": 35,
   "id": "fc0760dc-ddd6-4096-8d3e-62ffe300d7c7",
   "metadata": {},
   "outputs": [],
   "source": [
    "# Making c a 3-D array\n",
    "new_arr2 = c.reshape(2,3,2)"
   ]
  },
  {
   "cell_type": "code",
   "execution_count": 36,
   "id": "fc450a11-ebe5-46f5-814c-7349cd971fc2",
   "metadata": {},
   "outputs": [
    {
     "data": {
      "text/plain": [
       "array([[[ 1,  2],\n",
       "        [ 3,  4],\n",
       "        [ 5,  6]],\n",
       "\n",
       "       [[ 7,  8],\n",
       "        [ 9, 10],\n",
       "        [11, 12]]])"
      ]
     },
     "execution_count": 36,
     "metadata": {},
     "output_type": "execute_result"
    }
   ],
   "source": [
    "new_arr2"
   ]
  },
  {
   "cell_type": "code",
   "execution_count": 37,
   "id": "2a83452a-351f-43d0-99f7-ba5403c35f4b",
   "metadata": {},
   "outputs": [
    {
     "data": {
      "text/plain": [
       "(2, 3, 2)"
      ]
     },
     "execution_count": 37,
     "metadata": {},
     "output_type": "execute_result"
    }
   ],
   "source": [
    "new_arr2.shape"
   ]
  },
  {
   "cell_type": "code",
   "execution_count": 38,
   "id": "4edc8071-e3ca-440d-839d-b036a3c8b9a9",
   "metadata": {},
   "outputs": [],
   "source": [
    "#To flatten any array take for example a twoDD_array\n",
    "twoD_array = np.array([[1,2,3],[4,5,6]])"
   ]
  },
  {
   "cell_type": "code",
   "execution_count": 39,
   "id": "f696188e-c86f-4295-9488-3a77a32d0f5d",
   "metadata": {},
   "outputs": [],
   "source": [
    "flatten_array = twoD_array.reshape(-1)"
   ]
  },
  {
   "cell_type": "code",
   "execution_count": 41,
   "id": "8a70c627-35ff-4ac3-a771-e7b1b57e19dd",
   "metadata": {},
   "outputs": [
    {
     "data": {
      "text/plain": [
       "array([1, 2, 3, 4, 5, 6])"
      ]
     },
     "execution_count": 41,
     "metadata": {},
     "output_type": "execute_result"
    }
   ],
   "source": [
    "flatten_array"
   ]
  },
  {
   "cell_type": "code",
   "execution_count": 42,
   "id": "5a70b9a1-f9c9-4273-82e2-ac1350202f38",
   "metadata": {},
   "outputs": [
    {
     "data": {
      "text/plain": [
       "(6,)"
      ]
     },
     "execution_count": 42,
     "metadata": {},
     "output_type": "execute_result"
    }
   ],
   "source": [
    "flatten_array.shape"
   ]
  },
  {
   "cell_type": "markdown",
   "id": "69eb0646-c14e-4c7d-b3c7-f230ec8b63e8",
   "metadata": {},
   "source": [
    " # NUMPY ARRAY INDEXING\n",
    " ### Access Array Element\n",
    " Array indexing is the same as accessing an array element.\n",
    " You can access an array element by referring to its index number.\n",
    " The indexes in NumPy arrays start with 0, meaning that the first element has index 0, and the second element has index 1 etc."
   ]
  },
  {
   "cell_type": "code",
   "execution_count": 43,
   "id": "3d3fbc13-cd92-4485-b068-74ce07e935d9",
   "metadata": {},
   "outputs": [
    {
     "name": "stdout",
     "output_type": "stream",
     "text": [
      "7\n"
     ]
    }
   ],
   "source": [
    "#This means calculating 3 + 4 as python index starts counting from 0\n",
    "arr = np.array([1,2,3,4])\n",
    "print(arr[2] + arr[3])"
   ]
  },
  {
   "cell_type": "markdown",
   "id": "1f8fb308-020b-4aaa-a6a9-1a38f2d68915",
   "metadata": {},
   "source": [
    "### Access 2-D Array\n",
    "To access elements from 2-D arrays we can use comma separated integers representing the \n",
    "dimension and the index of te element.\n",
    "Think of 2-D arrays like a table with two rows and columns, where the row represents the dimension and the index\n",
    "represents the column.\n",
    "\n",
    "#### Practical implementation"
   ]
  },
  {
   "cell_type": "code",
   "execution_count": 44,
   "id": "2e81d03a-75c2-4499-ae72-13888dabad45",
   "metadata": {},
   "outputs": [],
   "source": [
    "a = np.array([3,4,5,6])"
   ]
  },
  {
   "cell_type": "code",
   "execution_count": 45,
   "id": "e6d65602-5a89-4864-a9cf-10ec553acad8",
   "metadata": {},
   "outputs": [
    {
     "data": {
      "text/plain": [
       "array([3, 4, 5, 6])"
      ]
     },
     "execution_count": 45,
     "metadata": {},
     "output_type": "execute_result"
    }
   ],
   "source": [
    "a"
   ]
  },
  {
   "cell_type": "code",
   "execution_count": 46,
   "id": "befb40dd-9dce-4d65-995b-7b8657e98e44",
   "metadata": {},
   "outputs": [
    {
     "data": {
      "text/plain": [
       "1"
      ]
     },
     "execution_count": 46,
     "metadata": {},
     "output_type": "execute_result"
    }
   ],
   "source": [
    "a.ndim"
   ]
  },
  {
   "cell_type": "code",
   "execution_count": 47,
   "id": "974944a5-4a85-4d0f-8920-fa977a7575a4",
   "metadata": {},
   "outputs": [
    {
     "data": {
      "text/plain": [
       "3"
      ]
     },
     "execution_count": 47,
     "metadata": {},
     "output_type": "execute_result"
    }
   ],
   "source": [
    "a[0]"
   ]
  },
  {
   "cell_type": "code",
   "execution_count": 48,
   "id": "9f2aa665-5ad4-4bf1-9efc-9fe3f5498310",
   "metadata": {},
   "outputs": [
    {
     "data": {
      "text/plain": [
       "5"
      ]
     },
     "execution_count": 48,
     "metadata": {},
     "output_type": "execute_result"
    }
   ],
   "source": [
    "a[2]"
   ]
  },
  {
   "cell_type": "code",
   "execution_count": 49,
   "id": "92865206-d244-4e53-b0c6-8c2f235f5376",
   "metadata": {},
   "outputs": [
    {
     "data": {
      "text/plain": [
       "8"
      ]
     },
     "execution_count": 49,
     "metadata": {},
     "output_type": "execute_result"
    }
   ],
   "source": [
    "a[2]+a[0]"
   ]
  },
  {
   "cell_type": "markdown",
   "id": "75053a13-4f36-4f56-9d02-dead1cb8e304",
   "metadata": {},
   "source": [
    "#### For 2-D Array\n",
    "\n",
    "To access any row containing any of the element"
   ]
  },
  {
   "cell_type": "code",
   "execution_count": 51,
   "id": "7c4ed79e-8957-440b-b49e-630a45d3ee3e",
   "metadata": {},
   "outputs": [],
   "source": [
    "b = np.array([[1,2,3,4,5],[6,7,8,9,10]])"
   ]
  },
  {
   "cell_type": "code",
   "execution_count": 52,
   "id": "acfa6353-6b94-4c1a-ad31-ae9181ab702d",
   "metadata": {},
   "outputs": [
    {
     "data": {
      "text/plain": [
       "array([[ 1,  2,  3,  4,  5],\n",
       "       [ 6,  7,  8,  9, 10]])"
      ]
     },
     "execution_count": 52,
     "metadata": {},
     "output_type": "execute_result"
    }
   ],
   "source": [
    "b"
   ]
  },
  {
   "cell_type": "code",
   "execution_count": 57,
   "id": "504cf739-fe32-4c56-9864-3d2ed75689d7",
   "metadata": {},
   "outputs": [
    {
     "data": {
      "text/plain": [
       "10"
      ]
     },
     "execution_count": 57,
     "metadata": {},
     "output_type": "execute_result"
    }
   ],
   "source": [
    "# Accessing elements from 2nd row and 5th column\n",
    "b[1,4]"
   ]
  },
  {
   "cell_type": "code",
   "execution_count": 58,
   "id": "a8d8c38f-0406-4cc2-b2c3-c13a5f713841",
   "metadata": {},
   "outputs": [
    {
     "data": {
      "text/plain": [
       "3"
      ]
     },
     "execution_count": 58,
     "metadata": {},
     "output_type": "execute_result"
    }
   ],
   "source": [
    "# Accessing elements from first row and 3rd column\n",
    "b[0,2]"
   ]
  },
  {
   "cell_type": "markdown",
   "id": "8ff5ddcc-3051-48eb-bf2b-f578e30e4a59",
   "metadata": {},
   "source": [
    "# Iterating NumPy Arrays\n",
    "### Iterating Arrays\n",
    "means going through elements one by one.\n",
    "As we deal with multi-dimensional arrays in NumPy, we can do this using basic for loop python.\n",
    "If we iterate on a 1-D array it will go through each element one by one."
   ]
  },
  {
   "cell_type": "code",
   "execution_count": 61,
   "id": "a2e6fee3-cb30-4ca8-80a7-e92c46b6d3ce",
   "metadata": {},
   "outputs": [],
   "source": [
    "# Iterating for a single 1-D array\n",
    "arr = np.array([1,2,3,4])"
   ]
  },
  {
   "cell_type": "code",
   "execution_count": 62,
   "id": "02ea6bbb-1fe2-448e-b562-80532433e947",
   "metadata": {},
   "outputs": [
    {
     "name": "stdout",
     "output_type": "stream",
     "text": [
      "1\n",
      "2\n",
      "3\n",
      "4\n"
     ]
    }
   ],
   "source": [
    "for i in arr:\n",
    "    print(i)"
   ]
  },
  {
   "cell_type": "code",
   "execution_count": 63,
   "id": "eaaaa22c-d008-4a01-bfa0-3e84aac1b90e",
   "metadata": {},
   "outputs": [],
   "source": [
    "# Iterating for a 2-D array\n",
    "arr2 = np.array([[1,2,3],[4,5,6]])"
   ]
  },
  {
   "cell_type": "code",
   "execution_count": 66,
   "id": "bc8ed557-6742-480d-b7a3-180e7f9c2935",
   "metadata": {},
   "outputs": [
    {
     "name": "stdout",
     "output_type": "stream",
     "text": [
      "[1 2 3]\n",
      "[4 5 6]\n"
     ]
    }
   ],
   "source": [
    "for j in arr2:\n",
    "    print(j)"
   ]
  },
  {
   "cell_type": "code",
   "execution_count": 67,
   "id": "f95c69f5-9834-4989-a708-075445dd586d",
   "metadata": {},
   "outputs": [
    {
     "name": "stdout",
     "output_type": "stream",
     "text": [
      "1\n",
      "2\n",
      "3\n",
      "4\n",
      "5\n",
      "6\n"
     ]
    }
   ],
   "source": [
    "# To access each and every element in arr\n",
    "for j in arr2:\n",
    "    for k in j:\n",
    "        print(k)"
   ]
  },
  {
   "cell_type": "markdown",
   "id": "c7036d7a-7193-4117-8f18-d734424bf856",
   "metadata": {},
   "source": [
    "# Array Slicing\n",
    "### Slicing arrays:\n",
    "Means taking elements from one give index to another given index.\n",
    "\n",
    "We pass slice instead of index like this: [start:end].\n",
    "\n",
    "We can also define the step, like this: [start : end : step].\n",
    "\n",
    "If we don't pass start its considered 0\n",
    "\n",
    "If we don't pass end its considered lenths of arry in that dimension\n",
    "\n",
    "If we don't pass step its considered 1"
   ]
  },
  {
   "cell_type": "code",
   "execution_count": 68,
   "id": "bac38ef5-892c-41c6-b212-0a9481fc709a",
   "metadata": {},
   "outputs": [],
   "source": [
    "a = np.array([1,2,3,4,5,6,7,8])"
   ]
  },
  {
   "cell_type": "code",
   "execution_count": 69,
   "id": "84730898-7ea7-4535-8a20-9d6e5cb5fea5",
   "metadata": {},
   "outputs": [
    {
     "data": {
      "text/plain": [
       "array([1, 2, 3, 4, 5, 6, 7, 8])"
      ]
     },
     "execution_count": 69,
     "metadata": {},
     "output_type": "execute_result"
    }
   ],
   "source": [
    "a"
   ]
  },
  {
   "cell_type": "code",
   "execution_count": 70,
   "id": "0108407b-42ea-4da1-b650-b8f3593c64ff",
   "metadata": {},
   "outputs": [
    {
     "data": {
      "text/plain": [
       "array([2, 3, 4, 5])"
      ]
     },
     "execution_count": 70,
     "metadata": {},
     "output_type": "execute_result"
    }
   ],
   "source": [
    "a[1:5]"
   ]
  },
  {
   "cell_type": "code",
   "execution_count": 74,
   "id": "12891939-0336-467a-866f-c9ef35b768e8",
   "metadata": {},
   "outputs": [
    {
     "data": {
      "text/plain": [
       "array([3, 4, 5, 6, 7])"
      ]
     },
     "execution_count": 74,
     "metadata": {},
     "output_type": "execute_result"
    }
   ],
   "source": [
    "a[2:7]\n",
    "# Note that the element of the 0 list will not be printed and that of the 5 on the list too will not be printed"
   ]
  },
  {
   "cell_type": "code",
   "execution_count": 73,
   "id": "1014c01c-a564-4e98-90e0-0f85dc7bc2ba",
   "metadata": {},
   "outputs": [
    {
     "data": {
      "text/plain": [
       "array([5, 6, 7, 8])"
      ]
     },
     "execution_count": 73,
     "metadata": {},
     "output_type": "execute_result"
    }
   ],
   "source": [
    "a[4:]\n",
    "# Means this index will print from index 4 to the end of the list"
   ]
  },
  {
   "cell_type": "code",
   "execution_count": 76,
   "id": "58df3ff9-eadb-4359-988d-187f523356fc",
   "metadata": {},
   "outputs": [
    {
     "data": {
      "text/plain": [
       "array([1, 2, 3, 4, 5])"
      ]
     },
     "execution_count": 76,
     "metadata": {},
     "output_type": "execute_result"
    }
   ],
   "source": [
    "a[:5]\n",
    "# This means the Numpy will print the list index from 0 to index 4 amd will omit 5"
   ]
  },
  {
   "cell_type": "code",
   "execution_count": 77,
   "id": "987bd9fe-f701-4fbe-838f-81875e212759",
   "metadata": {},
   "outputs": [
    {
     "data": {
      "text/plain": [
       "array([2, 4, 6])"
      ]
     },
     "execution_count": 77,
     "metadata": {},
     "output_type": "execute_result"
    }
   ],
   "source": [
    "a[1:6:2]\n",
    "#This means that the list index will print 2 jump 3 print 4 jump 5 and print 6 "
   ]
  },
  {
   "cell_type": "markdown",
   "id": "8a6c2d09-2295-459e-b76f-dcf566062e28",
   "metadata": {},
   "source": [
    "#### Slice a 2-D Array"
   ]
  },
  {
   "cell_type": "code",
   "execution_count": 78,
   "id": "a6491523-3fdf-4b84-8db9-77289ab9e445",
   "metadata": {},
   "outputs": [],
   "source": [
    "b = np.array([[1,2,3,4,5],[6,7,8,9,10]])"
   ]
  },
  {
   "cell_type": "code",
   "execution_count": 79,
   "id": "bc588453-221a-4707-96c1-2c8c92ae8b72",
   "metadata": {},
   "outputs": [
    {
     "data": {
      "text/plain": [
       "array([[ 1,  2,  3,  4,  5],\n",
       "       [ 6,  7,  8,  9, 10]])"
      ]
     },
     "execution_count": 79,
     "metadata": {},
     "output_type": "execute_result"
    }
   ],
   "source": [
    "b"
   ]
  },
  {
   "cell_type": "code",
   "execution_count": 81,
   "id": "4b20b5f1-e8c4-4754-ada5-3b367499af11",
   "metadata": {},
   "outputs": [
    {
     "data": {
      "text/plain": [
       "array([7, 8, 9])"
      ]
     },
     "execution_count": 81,
     "metadata": {},
     "output_type": "execute_result"
    }
   ],
   "source": [
    "b[1,1:4]\n",
    "#This means second row, 1 to 4"
   ]
  },
  {
   "cell_type": "code",
   "execution_count": 83,
   "id": "f349f19d-66ad-4669-90d7-6060a9a49fb2",
   "metadata": {},
   "outputs": [
    {
     "data": {
      "text/plain": [
       "array([1, 2, 3])"
      ]
     },
     "execution_count": 83,
     "metadata": {},
     "output_type": "execute_result"
    }
   ],
   "source": [
    "b[0,0:3]\n",
    "#This means first index from 0 index to the third index"
   ]
  },
  {
   "cell_type": "markdown",
   "id": "65c3c014-42e7-46c1-8c33-dc736bad50ee",
   "metadata": {},
   "source": [
    "# NumPy Array Searching and Sorting\n",
    "### Searching\n",
    "You can search an array for a certain value, and return the indexes that get a match.\n",
    "\n",
    "To search an array, use where() method\n",
    "\n",
    "### Sorting\n",
    "Means putting elements in an ordered sequence.\n",
    "\n",
    "Ordered sequence is any sequence that has an order corresponding to elements, like numeric or alphabeticeal, ascending or descending.\n",
    "\n",
    "The NumPy ndarray object has a function called sort(), that will sort a specified array."
   ]
  },
  {
   "cell_type": "code",
   "execution_count": 99,
   "id": "933e9617-7ac0-4258-b52c-77fb6e8ce3c9",
   "metadata": {},
   "outputs": [],
   "source": [
    "# Where operation\n",
    "a = np.array([1,2,3,3,4,5,8,5,10,20,1])"
   ]
  },
  {
   "cell_type": "code",
   "execution_count": 100,
   "id": "36a4bf67-26c7-45a5-8b54-fd94aab44b4d",
   "metadata": {},
   "outputs": [],
   "source": [
    "x = np.where(a == 1)"
   ]
  },
  {
   "cell_type": "code",
   "execution_count": 101,
   "id": "8230c0cc-dd43-4573-9ff4-5d14c001b5d4",
   "metadata": {},
   "outputs": [],
   "source": [
    "y = np.where(a == 4)"
   ]
  },
  {
   "cell_type": "code",
   "execution_count": 102,
   "id": "7462220c-029b-4f8a-bd22-57d655f05bf0",
   "metadata": {},
   "outputs": [
    {
     "data": {
      "text/plain": [
       "(array([ 0, 10], dtype=int64),)"
      ]
     },
     "execution_count": 102,
     "metadata": {},
     "output_type": "execute_result"
    }
   ],
   "source": [
    "x"
   ]
  },
  {
   "cell_type": "code",
   "execution_count": 103,
   "id": "6b44c761-aba4-4ed7-a441-b7d9c4862101",
   "metadata": {},
   "outputs": [
    {
     "data": {
      "text/plain": [
       "(array([4], dtype=int64),)"
      ]
     },
     "execution_count": 103,
     "metadata": {},
     "output_type": "execute_result"
    }
   ],
   "source": [
    "y"
   ]
  },
  {
   "cell_type": "code",
   "execution_count": 104,
   "id": "5b4a8103-8e56-4a38-b813-c8cae1a3281a",
   "metadata": {},
   "outputs": [],
   "source": [
    "ans = np.where(a%2 == 0)"
   ]
  },
  {
   "cell_type": "code",
   "execution_count": 105,
   "id": "03725ac1-7791-417b-ac8d-ed66f96cfa23",
   "metadata": {},
   "outputs": [
    {
     "data": {
      "text/plain": [
       "(array([1, 4, 6, 8, 9], dtype=int64),)"
      ]
     },
     "execution_count": 105,
     "metadata": {},
     "output_type": "execute_result"
    }
   ],
   "source": [
    "ans"
   ]
  },
  {
   "cell_type": "code",
   "execution_count": 106,
   "id": "a9873f33-91a2-4be1-b725-1f1120f27d21",
   "metadata": {},
   "outputs": [
    {
     "data": {
      "text/plain": [
       "array([ 1,  1,  2,  3,  3,  4,  5,  5,  8, 10, 20])"
      ]
     },
     "execution_count": 106,
     "metadata": {},
     "output_type": "execute_result"
    }
   ],
   "source": [
    "# Sort Operation\n",
    "np.sort(a)"
   ]
  },
  {
   "cell_type": "code",
   "execution_count": 107,
   "id": "b3b9f22d-df32-4c28-b4f2-3c4ccb91d73b",
   "metadata": {},
   "outputs": [],
   "source": [
    "a2 = np.array([44,12,90,76,55])"
   ]
  },
  {
   "cell_type": "code",
   "execution_count": 108,
   "id": "b4d380af-8eb2-48fa-8d84-79b9eef1705b",
   "metadata": {},
   "outputs": [
    {
     "data": {
      "text/plain": [
       "array([12, 44, 55, 76, 90])"
      ]
     },
     "execution_count": 108,
     "metadata": {},
     "output_type": "execute_result"
    }
   ],
   "source": [
    "np.sort(a2)"
   ]
  },
  {
   "cell_type": "code",
   "execution_count": 109,
   "id": "a2b92d8f-7b92-4381-ac39-042df666d4c5",
   "metadata": {},
   "outputs": [
    {
     "data": {
      "text/plain": [
       "array(['Apple', 'Mango', 'Orange', 'Papara'], dtype='<U6')"
      ]
     },
     "execution_count": 109,
     "metadata": {},
     "output_type": "execute_result"
    }
   ],
   "source": [
    "# Example of arrays containing non-numerical values\n",
    "a3 = np.array([\"Mango\", \"Papara\", \"Apple\", \"Orange\"])\n",
    "np.sort(a3)"
   ]
  },
  {
   "cell_type": "code",
   "execution_count": null,
   "id": "2bc3d033-6669-4e6d-af33-17ad92d7a56d",
   "metadata": {},
   "outputs": [],
   "source": []
  }
 ],
 "metadata": {
  "kernelspec": {
   "display_name": "Python 3 (ipykernel)",
   "language": "python",
   "name": "python3"
  },
  "language_info": {
   "codemirror_mode": {
    "name": "ipython",
    "version": 3
   },
   "file_extension": ".py",
   "mimetype": "text/x-python",
   "name": "python",
   "nbconvert_exporter": "python",
   "pygments_lexer": "ipython3",
   "version": "3.10.10"
  }
 },
 "nbformat": 4,
 "nbformat_minor": 5
}
