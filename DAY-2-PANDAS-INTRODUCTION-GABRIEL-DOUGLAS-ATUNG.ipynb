{
 "cells": [
  {
   "cell_type": "markdown",
   "id": "d91bf836-27e6-4d08-84fa-61c763bdf962",
   "metadata": {},
   "source": [
    "# PANDAS INTRODUCTION\n",
    "Pandas is a python library used for working with data sets.\n",
    "It has functions for analyzing, cleaning, exploring, and manipulating data.\n",
    "\n",
    "The name \"Pandas\" has a reference to bothe \"Panel Data\", and \"Python Data Analysis\" and was created by Wes McKinney in 2008.\n",
    "\n",
    "## 1. Importing Pandas\n",
    "- Pandas are globally imported as pd example (import pandas as pd)\n",
    "- Pandas are also read as data = pd.read_csv('Enter the path of the excel or any file you want to work on')\n",
    "- Then you can continue working on the Pandas"
   ]
  },
  {
   "cell_type": "code",
   "execution_count": 4,
   "id": "2d272cab-3567-4c49-9fe2-59478397b8ab",
   "metadata": {},
   "outputs": [
    {
     "data": {
      "text/plain": [
       "\"data = pd.read_csv('')\""
      ]
     },
     "execution_count": 4,
     "metadata": {},
     "output_type": "execute_result"
    }
   ],
   "source": [
    "# Importing Pandas\n",
    "import pandas as pd\n",
    "'''data = pd.read_csv('')'''"
   ]
  },
  {
   "cell_type": "markdown",
   "id": "195b346c-4db7-431c-bdfc-744dd0dfa759",
   "metadata": {},
   "source": [
    "# 2. Pandas Series\n",
    "Series in Pandas DataFrame is just another important data structure of pandas.\n",
    "In most of our data science projects, we'll be working with the pandas data frames.\n",
    "But in this just little video, I just want to give a small introduction about what is series.\n",
    "\n",
    "## What is series\n",
    "A Pandas series is like a column in a table.\n",
    "\n",
    "It is a one-dimensional array holding data of any type\n",
    "\n",
    "### Sample Code for Pandas series"
   ]
  },
  {
   "cell_type": "code",
   "execution_count": 9,
   "id": "1cfa157e-08d6-46f4-ad63-314a16cf4ddc",
   "metadata": {},
   "outputs": [],
   "source": [
    "#Entering a list of numbers\n",
    "a = [1, 7, 6, 9]"
   ]
  },
  {
   "cell_type": "code",
   "execution_count": 10,
   "id": "1ee86d6c-b49a-4b69-9e31-fa2d0545b11d",
   "metadata": {},
   "outputs": [],
   "source": [
    "# Naming a new pandas series called atung\n",
    "atung = pd.Series(a)"
   ]
  },
  {
   "cell_type": "code",
   "execution_count": 8,
   "id": "d899b6bd-038e-40c1-916d-aca61fb9070e",
   "metadata": {},
   "outputs": [
    {
     "name": "stdout",
     "output_type": "stream",
     "text": [
      "0    1\n",
      "1    7\n",
      "2    6\n",
      "3    9\n",
      "dtype: int64\n"
     ]
    }
   ],
   "source": [
    "print(atung)"
   ]
  },
  {
   "cell_type": "markdown",
   "id": "736aa2a6-0a17-43c9-ad59-81229a6339c9",
   "metadata": {},
   "source": [
    "### Key/Value Objects as Series\n",
    "We can also store key value objects as series "
   ]
  },
  {
   "cell_type": "code",
   "execution_count": 11,
   "id": "68738632-1b00-4c75-bdfb-fd2aeca060bf",
   "metadata": {},
   "outputs": [],
   "source": [
    "#Example of a key value objects as Pandas series with Dictionary\n",
    "weeks = {\"Wk1\": 120, \"Wk2\": 130, \"Wk3\": 130}"
   ]
  },
  {
   "cell_type": "code",
   "execution_count": 12,
   "id": "3a394000-8de2-4641-ac93-36ba3bf56c4f",
   "metadata": {},
   "outputs": [],
   "source": [
    "atung = pd.Series(weeks)"
   ]
  },
  {
   "cell_type": "code",
   "execution_count": 17,
   "id": "e0eaf72b-92d5-4f72-978d-c476cef85119",
   "metadata": {},
   "outputs": [
    {
     "data": {
      "text/plain": [
       "Wk1    120\n",
       "Wk2    130\n",
       "Wk3    130\n",
       "dtype: int64"
      ]
     },
     "execution_count": 17,
     "metadata": {},
     "output_type": "execute_result"
    }
   ],
   "source": [
    "print(atung) # or just type: atung to print"
   ]
  },
  {
   "cell_type": "markdown",
   "id": "930e7547-21cb-4f6b-9e98-1d63562d8206",
   "metadata": {},
   "source": [
    "### Practical implementation of Pandas Series"
   ]
  },
  {
   "cell_type": "code",
   "execution_count": 14,
   "id": "cc63f8d4-94eb-433b-9543-5e903177f7de",
   "metadata": {},
   "outputs": [],
   "source": [
    "# Let's make a python list\n",
    "l1 = [3,6,4,8,6,2]"
   ]
  },
  {
   "cell_type": "code",
   "execution_count": 15,
   "id": "e11932c6-a0f0-4507-bd07-a0714e02aef3",
   "metadata": {},
   "outputs": [],
   "source": [
    "s1 = pd.Series(l1)"
   ]
  },
  {
   "cell_type": "code",
   "execution_count": 16,
   "id": "fa942bea-4f1e-45fe-98da-63def7fc0c9f",
   "metadata": {},
   "outputs": [
    {
     "data": {
      "text/plain": [
       "0    3\n",
       "1    6\n",
       "2    4\n",
       "3    8\n",
       "4    6\n",
       "5    2\n",
       "dtype: int64"
      ]
     },
     "execution_count": 16,
     "metadata": {},
     "output_type": "execute_result"
    }
   ],
   "source": [
    "s1 #or we can print s1"
   ]
  },
  {
   "cell_type": "markdown",
   "id": "78721f5d-bfac-47c9-aaaf-9ab9bb7ef8c9",
   "metadata": {},
   "source": [
    "### Key series Objects using dictionary\n",
    "Using dictionary objects for pandas series"
   ]
  },
  {
   "cell_type": "code",
   "execution_count": 18,
   "id": "753c451b-7358-484f-9004-b5d88bd64f18",
   "metadata": {},
   "outputs": [],
   "source": [
    " #Another example using dictionary we have\n",
    "d1 = {\"One\": 10, \"Two\": 100, \"Three\": 1000}"
   ]
  },
  {
   "cell_type": "code",
   "execution_count": 19,
   "id": "c97ffd92-a943-43dd-9e1a-234268deaa6c",
   "metadata": {},
   "outputs": [],
   "source": [
    "s2 = pd.Series(d1)"
   ]
  },
  {
   "cell_type": "code",
   "execution_count": 20,
   "id": "a9ce5d4b-1095-47d0-9516-874cccf824c8",
   "metadata": {},
   "outputs": [
    {
     "data": {
      "text/plain": [
       "One        10\n",
       "Two       100\n",
       "Three    1000\n",
       "dtype: int64"
      ]
     },
     "execution_count": 20,
     "metadata": {},
     "output_type": "execute_result"
    }
   ],
   "source": [
    "s2"
   ]
  },
  {
   "cell_type": "markdown",
   "id": "2d9ded3c-dcea-49ee-a192-01ae44c24004",
   "metadata": {},
   "source": [
    "# 3. Pandas DataFrame\n",
    "### What is a DataFrame?\n",
    "A Pandas DataFrame is a two dimensional data structure, like two dimensional array, or a table with rows and columns\n",
    "\n",
    "#### Sample Code of DataFrame\n",
    "Making our own dataset"
   ]
  },
  {
   "cell_type": "code",
   "execution_count": 38,
   "id": "cefd3d11-ddd5-439e-82d4-19c9c967ea44",
   "metadata": {},
   "outputs": [],
   "source": [
    "data = {\n",
    "\"Names\": ['Sam', 'Phil', 'Jane', 'Abo', 'Tani'],\n",
    "\"Calories\": [420,380,390,400,410],\n",
    "\"Duration\": [50,40,45,55,60]\n",
    "}"
   ]
  },
  {
   "cell_type": "code",
   "execution_count": 39,
   "id": "b226e069-7009-4e24-822e-b8e41fdaafa7",
   "metadata": {},
   "outputs": [],
   "source": [
    "df = pd.DataFrame(data)"
   ]
  },
  {
   "cell_type": "code",
   "execution_count": 40,
   "id": "eb277af7-7119-49f0-999b-d9003a99d3b4",
   "metadata": {},
   "outputs": [
    {
     "data": {
      "text/html": [
       "<div>\n",
       "<style scoped>\n",
       "    .dataframe tbody tr th:only-of-type {\n",
       "        vertical-align: middle;\n",
       "    }\n",
       "\n",
       "    .dataframe tbody tr th {\n",
       "        vertical-align: top;\n",
       "    }\n",
       "\n",
       "    .dataframe thead th {\n",
       "        text-align: right;\n",
       "    }\n",
       "</style>\n",
       "<table border=\"1\" class=\"dataframe\">\n",
       "  <thead>\n",
       "    <tr style=\"text-align: right;\">\n",
       "      <th></th>\n",
       "      <th>Names</th>\n",
       "      <th>Calories</th>\n",
       "      <th>Duration</th>\n",
       "    </tr>\n",
       "  </thead>\n",
       "  <tbody>\n",
       "    <tr>\n",
       "      <th>0</th>\n",
       "      <td>Sam</td>\n",
       "      <td>420</td>\n",
       "      <td>50</td>\n",
       "    </tr>\n",
       "    <tr>\n",
       "      <th>1</th>\n",
       "      <td>Phil</td>\n",
       "      <td>380</td>\n",
       "      <td>40</td>\n",
       "    </tr>\n",
       "    <tr>\n",
       "      <th>2</th>\n",
       "      <td>Jane</td>\n",
       "      <td>390</td>\n",
       "      <td>45</td>\n",
       "    </tr>\n",
       "    <tr>\n",
       "      <th>3</th>\n",
       "      <td>Abo</td>\n",
       "      <td>400</td>\n",
       "      <td>55</td>\n",
       "    </tr>\n",
       "    <tr>\n",
       "      <th>4</th>\n",
       "      <td>Tani</td>\n",
       "      <td>410</td>\n",
       "      <td>60</td>\n",
       "    </tr>\n",
       "  </tbody>\n",
       "</table>\n",
       "</div>"
      ],
      "text/plain": [
       "  Names  Calories  Duration\n",
       "0   Sam       420        50\n",
       "1  Phil       380        40\n",
       "2  Jane       390        45\n",
       "3   Abo       400        55\n",
       "4  Tani       410        60"
      ]
     },
     "execution_count": 40,
     "metadata": {},
     "output_type": "execute_result"
    }
   ],
   "source": [
    "df"
   ]
  },
  {
   "cell_type": "markdown",
   "id": "2798875b-b936-43b9-b39f-a9161e99a5fc",
   "metadata": {},
   "source": [
    "### How to locate a row in Pandas\n",
    "DataFrame is like a table with rows and columns.\n",
    "\n",
    "To locate a row, pandas uses loc attribute to return one or more specified row(s)"
   ]
  },
  {
   "cell_type": "code",
   "execution_count": 56,
   "id": "ece8e9cd-df3a-413d-9c91-8f1e8a728bee",
   "metadata": {},
   "outputs": [
    {
     "name": "stdout",
     "output_type": "stream",
     "text": [
      "Weekdays      Sunday\n",
      "Test Score        10\n",
      "Name: 0, dtype: object\n"
     ]
    }
   ],
   "source": [
    "#Example, locate index 0\n",
    "print(df.loc[0]) # and to locate multiple index let's say 0 to 2 we we print(df.loc[0:2])\n",
    "#or we just write df.loc[0]"
   ]
  },
  {
   "cell_type": "markdown",
   "id": "54df8285-afcf-441e-b10f-a6c730d3ec34",
   "metadata": {},
   "source": [
    "#### Practical of DataFrame"
   ]
  },
  {
   "cell_type": "code",
   "execution_count": 57,
   "id": "19e71266-d828-4779-ac6c-eb0f991bce99",
   "metadata": {},
   "outputs": [],
   "source": [
    "sample_data = {\n",
    "    \"Weekdays\": ['Sunday', 'Monday', 'Tuesday', 'Wednesday', 'Thursday', 'Friday', 'Saturday'],\n",
    "    \"Test Score\": [10,20,30,35,25,15,30]\n",
    "}"
   ]
  },
  {
   "cell_type": "code",
   "execution_count": 58,
   "id": "d3b39f5e-bfa3-4abf-8b63-5ff85d566e52",
   "metadata": {},
   "outputs": [],
   "source": [
    "df = pd.DataFrame(sample_data)"
   ]
  },
  {
   "cell_type": "code",
   "execution_count": 59,
   "id": "2b2b5e90-5e36-4de5-9683-a944b77099b0",
   "metadata": {},
   "outputs": [
    {
     "data": {
      "text/html": [
       "<div>\n",
       "<style scoped>\n",
       "    .dataframe tbody tr th:only-of-type {\n",
       "        vertical-align: middle;\n",
       "    }\n",
       "\n",
       "    .dataframe tbody tr th {\n",
       "        vertical-align: top;\n",
       "    }\n",
       "\n",
       "    .dataframe thead th {\n",
       "        text-align: right;\n",
       "    }\n",
       "</style>\n",
       "<table border=\"1\" class=\"dataframe\">\n",
       "  <thead>\n",
       "    <tr style=\"text-align: right;\">\n",
       "      <th></th>\n",
       "      <th>Weekdays</th>\n",
       "      <th>Test Score</th>\n",
       "    </tr>\n",
       "  </thead>\n",
       "  <tbody>\n",
       "    <tr>\n",
       "      <th>0</th>\n",
       "      <td>Sunday</td>\n",
       "      <td>10</td>\n",
       "    </tr>\n",
       "    <tr>\n",
       "      <th>1</th>\n",
       "      <td>Monday</td>\n",
       "      <td>20</td>\n",
       "    </tr>\n",
       "    <tr>\n",
       "      <th>2</th>\n",
       "      <td>Tuesday</td>\n",
       "      <td>30</td>\n",
       "    </tr>\n",
       "    <tr>\n",
       "      <th>3</th>\n",
       "      <td>Wednesday</td>\n",
       "      <td>35</td>\n",
       "    </tr>\n",
       "    <tr>\n",
       "      <th>4</th>\n",
       "      <td>Thursday</td>\n",
       "      <td>25</td>\n",
       "    </tr>\n",
       "    <tr>\n",
       "      <th>5</th>\n",
       "      <td>Friday</td>\n",
       "      <td>15</td>\n",
       "    </tr>\n",
       "    <tr>\n",
       "      <th>6</th>\n",
       "      <td>Saturday</td>\n",
       "      <td>30</td>\n",
       "    </tr>\n",
       "  </tbody>\n",
       "</table>\n",
       "</div>"
      ],
      "text/plain": [
       "    Weekdays  Test Score\n",
       "0     Sunday          10\n",
       "1     Monday          20\n",
       "2    Tuesday          30\n",
       "3  Wednesday          35\n",
       "4   Thursday          25\n",
       "5     Friday          15\n",
       "6   Saturday          30"
      ]
     },
     "execution_count": 59,
     "metadata": {},
     "output_type": "execute_result"
    }
   ],
   "source": [
    "df"
   ]
  },
  {
   "cell_type": "code",
   "execution_count": 60,
   "id": "a52126e2-ada6-4253-8b5d-b9c6155af190",
   "metadata": {},
   "outputs": [
    {
     "data": {
      "text/plain": [
       "Weekdays      Sunday\n",
       "Test Score        10\n",
       "Name: 0, dtype: object"
      ]
     },
     "execution_count": 60,
     "metadata": {},
     "output_type": "execute_result"
    }
   ],
   "source": [
    "# To locate any location let's say index 0 we write\n",
    "df.loc[0]"
   ]
  },
  {
   "cell_type": "markdown",
   "id": "90be5276-7ee4-4347-9534-a46ddb00f82f",
   "metadata": {},
   "source": [
    "# 4. Read CSV Files\n",
    "A simple way to store big data sets is to use CSV files (comma separated files).\n",
    "CSV files contains plain tex and is a well known format that can be read by everyone including Pandas.\n"
   ]
  },
  {
   "cell_type": "code",
   "execution_count": 62,
   "id": "e6c59261-901f-477d-8659-7fea91d3b661",
   "metadata": {},
   "outputs": [],
   "source": [
    "df = pd.read_csv('cleaned-loan.csv')"
   ]
  },
  {
   "cell_type": "code",
   "execution_count": 63,
   "id": "aa43b405-381d-4e09-bc03-1916ea8226e1",
   "metadata": {},
   "outputs": [
    {
     "data": {
      "text/html": [
       "<div>\n",
       "<style scoped>\n",
       "    .dataframe tbody tr th:only-of-type {\n",
       "        vertical-align: middle;\n",
       "    }\n",
       "\n",
       "    .dataframe tbody tr th {\n",
       "        vertical-align: top;\n",
       "    }\n",
       "\n",
       "    .dataframe thead th {\n",
       "        text-align: right;\n",
       "    }\n",
       "</style>\n",
       "<table border=\"1\" class=\"dataframe\">\n",
       "  <thead>\n",
       "    <tr style=\"text-align: right;\">\n",
       "      <th></th>\n",
       "      <th>Unnamed: 0</th>\n",
       "      <th>Gender</th>\n",
       "      <th>Married</th>\n",
       "      <th>Dependents</th>\n",
       "      <th>Education</th>\n",
       "      <th>Self_Employed</th>\n",
       "      <th>ApplicantIncome</th>\n",
       "      <th>CoapplicantIncome</th>\n",
       "      <th>LoanAmount</th>\n",
       "      <th>Loan_Amount_Term</th>\n",
       "      <th>Credit_History</th>\n",
       "      <th>Property_Area</th>\n",
       "      <th>Loan_Status</th>\n",
       "    </tr>\n",
       "  </thead>\n",
       "  <tbody>\n",
       "    <tr>\n",
       "      <th>0</th>\n",
       "      <td>0</td>\n",
       "      <td>1</td>\n",
       "      <td>0.0</td>\n",
       "      <td>0.0</td>\n",
       "      <td>1.0</td>\n",
       "      <td>0.0</td>\n",
       "      <td>5849</td>\n",
       "      <td>0.0</td>\n",
       "      <td>146.412162</td>\n",
       "      <td>360.0</td>\n",
       "      <td>1.0</td>\n",
       "      <td>2.0</td>\n",
       "      <td>1.0</td>\n",
       "    </tr>\n",
       "    <tr>\n",
       "      <th>1</th>\n",
       "      <td>1</td>\n",
       "      <td>1</td>\n",
       "      <td>1.0</td>\n",
       "      <td>1.0</td>\n",
       "      <td>1.0</td>\n",
       "      <td>0.0</td>\n",
       "      <td>4583</td>\n",
       "      <td>1508.0</td>\n",
       "      <td>128.000000</td>\n",
       "      <td>360.0</td>\n",
       "      <td>1.0</td>\n",
       "      <td>0.0</td>\n",
       "      <td>0.0</td>\n",
       "    </tr>\n",
       "    <tr>\n",
       "      <th>2</th>\n",
       "      <td>2</td>\n",
       "      <td>1</td>\n",
       "      <td>1.0</td>\n",
       "      <td>0.0</td>\n",
       "      <td>1.0</td>\n",
       "      <td>1.0</td>\n",
       "      <td>3000</td>\n",
       "      <td>0.0</td>\n",
       "      <td>66.000000</td>\n",
       "      <td>360.0</td>\n",
       "      <td>1.0</td>\n",
       "      <td>2.0</td>\n",
       "      <td>1.0</td>\n",
       "    </tr>\n",
       "    <tr>\n",
       "      <th>3</th>\n",
       "      <td>3</td>\n",
       "      <td>1</td>\n",
       "      <td>1.0</td>\n",
       "      <td>0.0</td>\n",
       "      <td>0.0</td>\n",
       "      <td>0.0</td>\n",
       "      <td>2583</td>\n",
       "      <td>2358.0</td>\n",
       "      <td>120.000000</td>\n",
       "      <td>360.0</td>\n",
       "      <td>1.0</td>\n",
       "      <td>2.0</td>\n",
       "      <td>1.0</td>\n",
       "    </tr>\n",
       "    <tr>\n",
       "      <th>4</th>\n",
       "      <td>4</td>\n",
       "      <td>1</td>\n",
       "      <td>0.0</td>\n",
       "      <td>0.0</td>\n",
       "      <td>1.0</td>\n",
       "      <td>0.0</td>\n",
       "      <td>6000</td>\n",
       "      <td>0.0</td>\n",
       "      <td>141.000000</td>\n",
       "      <td>360.0</td>\n",
       "      <td>1.0</td>\n",
       "      <td>2.0</td>\n",
       "      <td>1.0</td>\n",
       "    </tr>\n",
       "    <tr>\n",
       "      <th>...</th>\n",
       "      <td>...</td>\n",
       "      <td>...</td>\n",
       "      <td>...</td>\n",
       "      <td>...</td>\n",
       "      <td>...</td>\n",
       "      <td>...</td>\n",
       "      <td>...</td>\n",
       "      <td>...</td>\n",
       "      <td>...</td>\n",
       "      <td>...</td>\n",
       "      <td>...</td>\n",
       "      <td>...</td>\n",
       "      <td>...</td>\n",
       "    </tr>\n",
       "    <tr>\n",
       "      <th>609</th>\n",
       "      <td>609</td>\n",
       "      <td>0</td>\n",
       "      <td>0.0</td>\n",
       "      <td>0.0</td>\n",
       "      <td>1.0</td>\n",
       "      <td>0.0</td>\n",
       "      <td>2900</td>\n",
       "      <td>0.0</td>\n",
       "      <td>71.000000</td>\n",
       "      <td>360.0</td>\n",
       "      <td>1.0</td>\n",
       "      <td>0.0</td>\n",
       "      <td>1.0</td>\n",
       "    </tr>\n",
       "    <tr>\n",
       "      <th>610</th>\n",
       "      <td>610</td>\n",
       "      <td>1</td>\n",
       "      <td>1.0</td>\n",
       "      <td>3.0</td>\n",
       "      <td>1.0</td>\n",
       "      <td>0.0</td>\n",
       "      <td>4106</td>\n",
       "      <td>0.0</td>\n",
       "      <td>40.000000</td>\n",
       "      <td>180.0</td>\n",
       "      <td>1.0</td>\n",
       "      <td>0.0</td>\n",
       "      <td>1.0</td>\n",
       "    </tr>\n",
       "    <tr>\n",
       "      <th>611</th>\n",
       "      <td>611</td>\n",
       "      <td>1</td>\n",
       "      <td>1.0</td>\n",
       "      <td>1.0</td>\n",
       "      <td>1.0</td>\n",
       "      <td>0.0</td>\n",
       "      <td>8072</td>\n",
       "      <td>240.0</td>\n",
       "      <td>253.000000</td>\n",
       "      <td>360.0</td>\n",
       "      <td>1.0</td>\n",
       "      <td>2.0</td>\n",
       "      <td>1.0</td>\n",
       "    </tr>\n",
       "    <tr>\n",
       "      <th>612</th>\n",
       "      <td>612</td>\n",
       "      <td>1</td>\n",
       "      <td>1.0</td>\n",
       "      <td>2.0</td>\n",
       "      <td>1.0</td>\n",
       "      <td>0.0</td>\n",
       "      <td>7583</td>\n",
       "      <td>0.0</td>\n",
       "      <td>187.000000</td>\n",
       "      <td>360.0</td>\n",
       "      <td>1.0</td>\n",
       "      <td>2.0</td>\n",
       "      <td>1.0</td>\n",
       "    </tr>\n",
       "    <tr>\n",
       "      <th>613</th>\n",
       "      <td>613</td>\n",
       "      <td>0</td>\n",
       "      <td>0.0</td>\n",
       "      <td>0.0</td>\n",
       "      <td>1.0</td>\n",
       "      <td>1.0</td>\n",
       "      <td>4583</td>\n",
       "      <td>0.0</td>\n",
       "      <td>133.000000</td>\n",
       "      <td>360.0</td>\n",
       "      <td>0.0</td>\n",
       "      <td>1.0</td>\n",
       "      <td>0.0</td>\n",
       "    </tr>\n",
       "  </tbody>\n",
       "</table>\n",
       "<p>614 rows × 13 columns</p>\n",
       "</div>"
      ],
      "text/plain": [
       "     Unnamed: 0  Gender  Married  Dependents  Education  Self_Employed  \\\n",
       "0             0       1      0.0         0.0        1.0            0.0   \n",
       "1             1       1      1.0         1.0        1.0            0.0   \n",
       "2             2       1      1.0         0.0        1.0            1.0   \n",
       "3             3       1      1.0         0.0        0.0            0.0   \n",
       "4             4       1      0.0         0.0        1.0            0.0   \n",
       "..          ...     ...      ...         ...        ...            ...   \n",
       "609         609       0      0.0         0.0        1.0            0.0   \n",
       "610         610       1      1.0         3.0        1.0            0.0   \n",
       "611         611       1      1.0         1.0        1.0            0.0   \n",
       "612         612       1      1.0         2.0        1.0            0.0   \n",
       "613         613       0      0.0         0.0        1.0            1.0   \n",
       "\n",
       "     ApplicantIncome  CoapplicantIncome  LoanAmount  Loan_Amount_Term  \\\n",
       "0               5849                0.0  146.412162             360.0   \n",
       "1               4583             1508.0  128.000000             360.0   \n",
       "2               3000                0.0   66.000000             360.0   \n",
       "3               2583             2358.0  120.000000             360.0   \n",
       "4               6000                0.0  141.000000             360.0   \n",
       "..               ...                ...         ...               ...   \n",
       "609             2900                0.0   71.000000             360.0   \n",
       "610             4106                0.0   40.000000             180.0   \n",
       "611             8072              240.0  253.000000             360.0   \n",
       "612             7583                0.0  187.000000             360.0   \n",
       "613             4583                0.0  133.000000             360.0   \n",
       "\n",
       "     Credit_History  Property_Area  Loan_Status  \n",
       "0               1.0            2.0          1.0  \n",
       "1               1.0            0.0          0.0  \n",
       "2               1.0            2.0          1.0  \n",
       "3               1.0            2.0          1.0  \n",
       "4               1.0            2.0          1.0  \n",
       "..              ...            ...          ...  \n",
       "609             1.0            0.0          1.0  \n",
       "610             1.0            0.0          1.0  \n",
       "611             1.0            2.0          1.0  \n",
       "612             1.0            2.0          1.0  \n",
       "613             0.0            1.0          0.0  \n",
       "\n",
       "[614 rows x 13 columns]"
      ]
     },
     "execution_count": 63,
     "metadata": {},
     "output_type": "execute_result"
    }
   ],
   "source": [
    "df"
   ]
  },
  {
   "cell_type": "code",
   "execution_count": null,
   "id": "a1cf0199-322c-43ef-b53c-0c5463a1da72",
   "metadata": {},
   "outputs": [],
   "source": []
  }
 ],
 "metadata": {
  "kernelspec": {
   "display_name": "Python 3 (ipykernel)",
   "language": "python",
   "name": "python3"
  },
  "language_info": {
   "codemirror_mode": {
    "name": "ipython",
    "version": 3
   },
   "file_extension": ".py",
   "mimetype": "text/x-python",
   "name": "python",
   "nbconvert_exporter": "python",
   "pygments_lexer": "ipython3",
   "version": "3.10.10"
  }
 },
 "nbformat": 4,
 "nbformat_minor": 5
}
